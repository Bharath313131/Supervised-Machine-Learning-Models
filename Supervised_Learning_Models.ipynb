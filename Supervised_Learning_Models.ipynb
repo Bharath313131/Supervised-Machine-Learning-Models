{
  "cells": [
    {
      "cell_type": "markdown",
      "id": "fe29cc07",
      "metadata": {
        "id": "fe29cc07"
      },
      "source": [
        "Data Preprocessing"
      ]
    },
    {
      "cell_type": "code",
      "execution_count": null,
      "id": "f010ef0f",
      "metadata": {
        "id": "f010ef0f"
      },
      "outputs": [],
      "source": [
        "import pandas as pd\n",
        "import numpy as np\n",
        "import matplotlib.pyplot as plt\n",
        "import seaborn as sns\n",
        "import warnings\n",
        "\n",
        "warnings.filterwarnings('ignore')"
      ]
    },
    {
      "cell_type": "code",
      "execution_count": null,
      "id": "c55a0cb1",
      "metadata": {
        "id": "c55a0cb1",
        "outputId": "01c8fa41-0c4a-41e1-fdca-ded2a6a6e6d1"
      },
      "outputs": [
        {
          "data": {
            "text/html": [
              "<div>\n",
              "<style scoped>\n",
              "    .dataframe tbody tr th:only-of-type {\n",
              "        vertical-align: middle;\n",
              "    }\n",
              "\n",
              "    .dataframe tbody tr th {\n",
              "        vertical-align: top;\n",
              "    }\n",
              "\n",
              "    .dataframe thead th {\n",
              "        text-align: right;\n",
              "    }\n",
              "</style>\n",
              "<table border=\"1\" class=\"dataframe\">\n",
              "  <thead>\n",
              "    <tr style=\"text-align: right;\">\n",
              "      <th></th>\n",
              "      <th>time</th>\n",
              "      <th>trt</th>\n",
              "      <th>age</th>\n",
              "      <th>wtkg</th>\n",
              "      <th>hemo</th>\n",
              "      <th>homo</th>\n",
              "      <th>drugs</th>\n",
              "      <th>karnof</th>\n",
              "      <th>oprior</th>\n",
              "      <th>z30</th>\n",
              "      <th>...</th>\n",
              "      <th>str2</th>\n",
              "      <th>strat</th>\n",
              "      <th>symptom</th>\n",
              "      <th>treat</th>\n",
              "      <th>offtrt</th>\n",
              "      <th>cd40</th>\n",
              "      <th>cd420</th>\n",
              "      <th>cd80</th>\n",
              "      <th>cd820</th>\n",
              "      <th>infected</th>\n",
              "    </tr>\n",
              "  </thead>\n",
              "  <tbody>\n",
              "    <tr>\n",
              "      <th>0</th>\n",
              "      <td>1073</td>\n",
              "      <td>1</td>\n",
              "      <td>37.0</td>\n",
              "      <td>79.46339</td>\n",
              "      <td>0</td>\n",
              "      <td>1</td>\n",
              "      <td>0.0</td>\n",
              "      <td>100.0</td>\n",
              "      <td>0.0</td>\n",
              "      <td>1.0</td>\n",
              "      <td>...</td>\n",
              "      <td>1</td>\n",
              "      <td>2</td>\n",
              "      <td>0</td>\n",
              "      <td>1</td>\n",
              "      <td>0</td>\n",
              "      <td>322</td>\n",
              "      <td>469</td>\n",
              "      <td>882</td>\n",
              "      <td>754</td>\n",
              "      <td>1</td>\n",
              "    </tr>\n",
              "    <tr>\n",
              "      <th>1</th>\n",
              "      <td>324</td>\n",
              "      <td>0</td>\n",
              "      <td>33.0</td>\n",
              "      <td>73.02314</td>\n",
              "      <td>0</td>\n",
              "      <td>1</td>\n",
              "      <td>0.0</td>\n",
              "      <td>90.0</td>\n",
              "      <td>0.0</td>\n",
              "      <td>1.0</td>\n",
              "      <td>...</td>\n",
              "      <td>1</td>\n",
              "      <td>3</td>\n",
              "      <td>1</td>\n",
              "      <td>1</td>\n",
              "      <td>1</td>\n",
              "      <td>168</td>\n",
              "      <td>575</td>\n",
              "      <td>1035</td>\n",
              "      <td>1525</td>\n",
              "      <td>1</td>\n",
              "    </tr>\n",
              "    <tr>\n",
              "      <th>2</th>\n",
              "      <td>495</td>\n",
              "      <td>1</td>\n",
              "      <td>43.0</td>\n",
              "      <td>69.47793</td>\n",
              "      <td>0</td>\n",
              "      <td>1</td>\n",
              "      <td>0.0</td>\n",
              "      <td>100.0</td>\n",
              "      <td>0.0</td>\n",
              "      <td>1.0</td>\n",
              "      <td>...</td>\n",
              "      <td>1</td>\n",
              "      <td>1</td>\n",
              "      <td>0</td>\n",
              "      <td>0</td>\n",
              "      <td>0</td>\n",
              "      <td>377</td>\n",
              "      <td>333</td>\n",
              "      <td>1147</td>\n",
              "      <td>1088</td>\n",
              "      <td>1</td>\n",
              "    </tr>\n",
              "    <tr>\n",
              "      <th>3</th>\n",
              "      <td>1201</td>\n",
              "      <td>3</td>\n",
              "      <td>42.0</td>\n",
              "      <td>89.15934</td>\n",
              "      <td>0</td>\n",
              "      <td>1</td>\n",
              "      <td>0.0</td>\n",
              "      <td>100.0</td>\n",
              "      <td>1.0</td>\n",
              "      <td>1.0</td>\n",
              "      <td>...</td>\n",
              "      <td>1</td>\n",
              "      <td>3</td>\n",
              "      <td>0</td>\n",
              "      <td>0</td>\n",
              "      <td>0</td>\n",
              "      <td>238</td>\n",
              "      <td>324</td>\n",
              "      <td>775</td>\n",
              "      <td>1019</td>\n",
              "      <td>1</td>\n",
              "    </tr>\n",
              "    <tr>\n",
              "      <th>4</th>\n",
              "      <td>934</td>\n",
              "      <td>0</td>\n",
              "      <td>37.0</td>\n",
              "      <td>137.46581</td>\n",
              "      <td>0</td>\n",
              "      <td>1</td>\n",
              "      <td>0.0</td>\n",
              "      <td>100.0</td>\n",
              "      <td>0.0</td>\n",
              "      <td>0.0</td>\n",
              "      <td>...</td>\n",
              "      <td>0</td>\n",
              "      <td>3</td>\n",
              "      <td>0</td>\n",
              "      <td>0</td>\n",
              "      <td>1</td>\n",
              "      <td>500</td>\n",
              "      <td>443</td>\n",
              "      <td>1601</td>\n",
              "      <td>849</td>\n",
              "      <td>0</td>\n",
              "    </tr>\n",
              "  </tbody>\n",
              "</table>\n",
              "<p>5 rows × 23 columns</p>\n",
              "</div>"
            ],
            "text/plain": [
              "   time  trt   age       wtkg  hemo  homo  drugs  karnof  oprior  z30  ...  \\\n",
              "0  1073    1  37.0   79.46339     0     1    0.0   100.0     0.0  1.0  ...   \n",
              "1   324    0  33.0   73.02314     0     1    0.0    90.0     0.0  1.0  ...   \n",
              "2   495    1  43.0   69.47793     0     1    0.0   100.0     0.0  1.0  ...   \n",
              "3  1201    3  42.0   89.15934     0     1    0.0   100.0     1.0  1.0  ...   \n",
              "4   934    0  37.0  137.46581     0     1    0.0   100.0     0.0  0.0  ...   \n",
              "\n",
              "   str2  strat  symptom  treat  offtrt  cd40  cd420  cd80  cd820  infected  \n",
              "0     1      2        0      1       0   322    469   882    754         1  \n",
              "1     1      3        1      1       1   168    575  1035   1525         1  \n",
              "2     1      1        0      0       0   377    333  1147   1088         1  \n",
              "3     1      3        0      0       0   238    324   775   1019         1  \n",
              "4     0      3        0      0       1   500    443  1601    849         0  \n",
              "\n",
              "[5 rows x 23 columns]"
            ]
          },
          "execution_count": 2,
          "metadata": {},
          "output_type": "execute_result"
        }
      ],
      "source": [
        "#Importing the data\n",
        "data = pd.read_csv(\"data.csv\")\n",
        "data.head()"
      ]
    },
    {
      "cell_type": "code",
      "execution_count": null,
      "id": "9485dc68",
      "metadata": {
        "id": "9485dc68",
        "outputId": "905cff77-3e4d-40c9-b137-4b57d91c7b7a"
      },
      "outputs": [
        {
          "name": "stdout",
          "output_type": "stream",
          "text": [
            "<class 'pandas.core.frame.DataFrame'>\n",
            "RangeIndex: 50046 entries, 0 to 50045\n",
            "Data columns (total 23 columns):\n",
            " #   Column    Non-Null Count  Dtype  \n",
            "---  ------    --------------  -----  \n",
            " 0   time      50046 non-null  int64  \n",
            " 1   trt       50046 non-null  int64  \n",
            " 2   age       50036 non-null  float64\n",
            " 3   wtkg      50035 non-null  float64\n",
            " 4   hemo      50046 non-null  int64  \n",
            " 5   homo      50046 non-null  int64  \n",
            " 6   drugs     50044 non-null  float64\n",
            " 7   karnof    50043 non-null  float64\n",
            " 8   oprior    50045 non-null  float64\n",
            " 9   z30       50045 non-null  float64\n",
            " 10  preanti   50046 non-null  int64  \n",
            " 11  race      50044 non-null  float64\n",
            " 12  gender    50046 non-null  int64  \n",
            " 13  str2      50046 non-null  int64  \n",
            " 14  strat     50046 non-null  int64  \n",
            " 15  symptom   50046 non-null  int64  \n",
            " 16  treat     50046 non-null  int64  \n",
            " 17  offtrt    50046 non-null  int64  \n",
            " 18  cd40      50046 non-null  int64  \n",
            " 19  cd420     50046 non-null  int64  \n",
            " 20  cd80      50046 non-null  int64  \n",
            " 21  cd820     50046 non-null  int64  \n",
            " 22  infected  50046 non-null  int64  \n",
            "dtypes: float64(7), int64(16)\n",
            "memory usage: 8.8 MB\n"
          ]
        }
      ],
      "source": [
        "data.info()"
      ]
    },
    {
      "cell_type": "code",
      "execution_count": null,
      "id": "4991e2ae",
      "metadata": {
        "id": "4991e2ae",
        "outputId": "a256d9ba-ca08-46ab-b081-0b3df87d1ef3"
      },
      "outputs": [
        {
          "data": {
            "text/html": [
              "<div>\n",
              "<style scoped>\n",
              "    .dataframe tbody tr th:only-of-type {\n",
              "        vertical-align: middle;\n",
              "    }\n",
              "\n",
              "    .dataframe tbody tr th {\n",
              "        vertical-align: top;\n",
              "    }\n",
              "\n",
              "    .dataframe thead th {\n",
              "        text-align: right;\n",
              "    }\n",
              "</style>\n",
              "<table border=\"1\" class=\"dataframe\">\n",
              "  <thead>\n",
              "    <tr style=\"text-align: right;\">\n",
              "      <th></th>\n",
              "      <th>time</th>\n",
              "      <th>trt</th>\n",
              "      <th>age</th>\n",
              "      <th>wtkg</th>\n",
              "      <th>hemo</th>\n",
              "      <th>homo</th>\n",
              "      <th>drugs</th>\n",
              "      <th>karnof</th>\n",
              "      <th>oprior</th>\n",
              "      <th>z30</th>\n",
              "      <th>...</th>\n",
              "      <th>str2</th>\n",
              "      <th>strat</th>\n",
              "      <th>symptom</th>\n",
              "      <th>treat</th>\n",
              "      <th>offtrt</th>\n",
              "      <th>cd40</th>\n",
              "      <th>cd420</th>\n",
              "      <th>cd80</th>\n",
              "      <th>cd820</th>\n",
              "      <th>infected</th>\n",
              "    </tr>\n",
              "  </thead>\n",
              "  <tbody>\n",
              "    <tr>\n",
              "      <th>count</th>\n",
              "      <td>50046.000000</td>\n",
              "      <td>50046.000000</td>\n",
              "      <td>50036.000000</td>\n",
              "      <td>50035.000000</td>\n",
              "      <td>50046.000000</td>\n",
              "      <td>50046.000000</td>\n",
              "      <td>50044.000000</td>\n",
              "      <td>50043.000000</td>\n",
              "      <td>50045.000000</td>\n",
              "      <td>50045.000000</td>\n",
              "      <td>...</td>\n",
              "      <td>50046.000000</td>\n",
              "      <td>50046.000000</td>\n",
              "      <td>50046.000000</td>\n",
              "      <td>50046.000000</td>\n",
              "      <td>50046.000000</td>\n",
              "      <td>50046.000000</td>\n",
              "      <td>50046.000000</td>\n",
              "      <td>50046.000000</td>\n",
              "      <td>50046.000000</td>\n",
              "      <td>50046.000000</td>\n",
              "    </tr>\n",
              "    <tr>\n",
              "      <th>mean</th>\n",
              "      <td>877.398074</td>\n",
              "      <td>1.384746</td>\n",
              "      <td>34.163522</td>\n",
              "      <td>75.861869</td>\n",
              "      <td>0.033469</td>\n",
              "      <td>0.653499</td>\n",
              "      <td>0.132184</td>\n",
              "      <td>96.831505</td>\n",
              "      <td>0.042302</td>\n",
              "      <td>0.640843</td>\n",
              "      <td>...</td>\n",
              "      <td>0.575191</td>\n",
              "      <td>1.936399</td>\n",
              "      <td>0.083503</td>\n",
              "      <td>0.734185</td>\n",
              "      <td>0.342025</td>\n",
              "      <td>319.088419</td>\n",
              "      <td>438.058446</td>\n",
              "      <td>1045.994045</td>\n",
              "      <td>905.917216</td>\n",
              "      <td>0.310155</td>\n",
              "    </tr>\n",
              "    <tr>\n",
              "      <th>std</th>\n",
              "      <td>307.284582</td>\n",
              "      <td>1.233323</td>\n",
              "      <td>7.090442</td>\n",
              "      <td>12.028666</td>\n",
              "      <td>0.179860</td>\n",
              "      <td>0.475860</td>\n",
              "      <td>0.338694</td>\n",
              "      <td>5.092175</td>\n",
              "      <td>0.201279</td>\n",
              "      <td>0.479758</td>\n",
              "      <td>...</td>\n",
              "      <td>0.494319</td>\n",
              "      <td>0.895327</td>\n",
              "      <td>0.276644</td>\n",
              "      <td>0.441771</td>\n",
              "      <td>0.474393</td>\n",
              "      <td>102.537837</td>\n",
              "      <td>144.798655</td>\n",
              "      <td>488.618765</td>\n",
              "      <td>339.653003</td>\n",
              "      <td>0.462561</td>\n",
              "    </tr>\n",
              "    <tr>\n",
              "      <th>min</th>\n",
              "      <td>66.000000</td>\n",
              "      <td>0.000000</td>\n",
              "      <td>12.000000</td>\n",
              "      <td>42.361620</td>\n",
              "      <td>0.000000</td>\n",
              "      <td>0.000000</td>\n",
              "      <td>0.000000</td>\n",
              "      <td>76.000000</td>\n",
              "      <td>0.000000</td>\n",
              "      <td>0.000000</td>\n",
              "      <td>...</td>\n",
              "      <td>0.000000</td>\n",
              "      <td>1.000000</td>\n",
              "      <td>0.000000</td>\n",
              "      <td>0.000000</td>\n",
              "      <td>0.000000</td>\n",
              "      <td>0.000000</td>\n",
              "      <td>81.000000</td>\n",
              "      <td>96.000000</td>\n",
              "      <td>173.000000</td>\n",
              "      <td>0.000000</td>\n",
              "    </tr>\n",
              "    <tr>\n",
              "      <th>25%</th>\n",
              "      <td>542.000000</td>\n",
              "      <td>0.000000</td>\n",
              "      <td>29.000000</td>\n",
              "      <td>68.252895</td>\n",
              "      <td>0.000000</td>\n",
              "      <td>0.000000</td>\n",
              "      <td>0.000000</td>\n",
              "      <td>90.000000</td>\n",
              "      <td>0.000000</td>\n",
              "      <td>0.000000</td>\n",
              "      <td>...</td>\n",
              "      <td>0.000000</td>\n",
              "      <td>1.000000</td>\n",
              "      <td>0.000000</td>\n",
              "      <td>0.000000</td>\n",
              "      <td>0.000000</td>\n",
              "      <td>236.000000</td>\n",
              "      <td>327.000000</td>\n",
              "      <td>713.000000</td>\n",
              "      <td>649.000000</td>\n",
              "      <td>0.000000</td>\n",
              "    </tr>\n",
              "    <tr>\n",
              "      <th>50%</th>\n",
              "      <td>1045.000000</td>\n",
              "      <td>1.000000</td>\n",
              "      <td>34.000000</td>\n",
              "      <td>74.054050</td>\n",
              "      <td>0.000000</td>\n",
              "      <td>1.000000</td>\n",
              "      <td>0.000000</td>\n",
              "      <td>100.000000</td>\n",
              "      <td>0.000000</td>\n",
              "      <td>1.000000</td>\n",
              "      <td>...</td>\n",
              "      <td>1.000000</td>\n",
              "      <td>2.000000</td>\n",
              "      <td>0.000000</td>\n",
              "      <td>1.000000</td>\n",
              "      <td>0.000000</td>\n",
              "      <td>299.000000</td>\n",
              "      <td>415.000000</td>\n",
              "      <td>885.000000</td>\n",
              "      <td>858.000000</td>\n",
              "      <td>0.000000</td>\n",
              "    </tr>\n",
              "    <tr>\n",
              "      <th>75%</th>\n",
              "      <td>1136.000000</td>\n",
              "      <td>3.000000</td>\n",
              "      <td>39.000000</td>\n",
              "      <td>81.142845</td>\n",
              "      <td>0.000000</td>\n",
              "      <td>1.000000</td>\n",
              "      <td>0.000000</td>\n",
              "      <td>100.000000</td>\n",
              "      <td>0.000000</td>\n",
              "      <td>1.000000</td>\n",
              "      <td>...</td>\n",
              "      <td>1.000000</td>\n",
              "      <td>3.000000</td>\n",
              "      <td>0.000000</td>\n",
              "      <td>1.000000</td>\n",
              "      <td>1.000000</td>\n",
              "      <td>396.000000</td>\n",
              "      <td>531.000000</td>\n",
              "      <td>1245.000000</td>\n",
              "      <td>1084.000000</td>\n",
              "      <td>1.000000</td>\n",
              "    </tr>\n",
              "    <tr>\n",
              "      <th>max</th>\n",
              "      <td>1231.000000</td>\n",
              "      <td>3.000000</td>\n",
              "      <td>68.000000</td>\n",
              "      <td>149.830870</td>\n",
              "      <td>1.000000</td>\n",
              "      <td>1.000000</td>\n",
              "      <td>1.000000</td>\n",
              "      <td>100.000000</td>\n",
              "      <td>1.000000</td>\n",
              "      <td>1.000000</td>\n",
              "      <td>...</td>\n",
              "      <td>1.000000</td>\n",
              "      <td>3.000000</td>\n",
              "      <td>1.000000</td>\n",
              "      <td>1.000000</td>\n",
              "      <td>1.000000</td>\n",
              "      <td>930.000000</td>\n",
              "      <td>1119.000000</td>\n",
              "      <td>4656.000000</td>\n",
              "      <td>3538.000000</td>\n",
              "      <td>1.000000</td>\n",
              "    </tr>\n",
              "  </tbody>\n",
              "</table>\n",
              "<p>8 rows × 23 columns</p>\n",
              "</div>"
            ],
            "text/plain": [
              "               time           trt           age          wtkg          hemo  \\\n",
              "count  50046.000000  50046.000000  50036.000000  50035.000000  50046.000000   \n",
              "mean     877.398074      1.384746     34.163522     75.861869      0.033469   \n",
              "std      307.284582      1.233323      7.090442     12.028666      0.179860   \n",
              "min       66.000000      0.000000     12.000000     42.361620      0.000000   \n",
              "25%      542.000000      0.000000     29.000000     68.252895      0.000000   \n",
              "50%     1045.000000      1.000000     34.000000     74.054050      0.000000   \n",
              "75%     1136.000000      3.000000     39.000000     81.142845      0.000000   \n",
              "max     1231.000000      3.000000     68.000000    149.830870      1.000000   \n",
              "\n",
              "               homo         drugs        karnof        oprior           z30  \\\n",
              "count  50046.000000  50044.000000  50043.000000  50045.000000  50045.000000   \n",
              "mean       0.653499      0.132184     96.831505      0.042302      0.640843   \n",
              "std        0.475860      0.338694      5.092175      0.201279      0.479758   \n",
              "min        0.000000      0.000000     76.000000      0.000000      0.000000   \n",
              "25%        0.000000      0.000000     90.000000      0.000000      0.000000   \n",
              "50%        1.000000      0.000000    100.000000      0.000000      1.000000   \n",
              "75%        1.000000      0.000000    100.000000      0.000000      1.000000   \n",
              "max        1.000000      1.000000    100.000000      1.000000      1.000000   \n",
              "\n",
              "       ...          str2         strat       symptom         treat  \\\n",
              "count  ...  50046.000000  50046.000000  50046.000000  50046.000000   \n",
              "mean   ...      0.575191      1.936399      0.083503      0.734185   \n",
              "std    ...      0.494319      0.895327      0.276644      0.441771   \n",
              "min    ...      0.000000      1.000000      0.000000      0.000000   \n",
              "25%    ...      0.000000      1.000000      0.000000      0.000000   \n",
              "50%    ...      1.000000      2.000000      0.000000      1.000000   \n",
              "75%    ...      1.000000      3.000000      0.000000      1.000000   \n",
              "max    ...      1.000000      3.000000      1.000000      1.000000   \n",
              "\n",
              "             offtrt          cd40         cd420          cd80         cd820  \\\n",
              "count  50046.000000  50046.000000  50046.000000  50046.000000  50046.000000   \n",
              "mean       0.342025    319.088419    438.058446   1045.994045    905.917216   \n",
              "std        0.474393    102.537837    144.798655    488.618765    339.653003   \n",
              "min        0.000000      0.000000     81.000000     96.000000    173.000000   \n",
              "25%        0.000000    236.000000    327.000000    713.000000    649.000000   \n",
              "50%        0.000000    299.000000    415.000000    885.000000    858.000000   \n",
              "75%        1.000000    396.000000    531.000000   1245.000000   1084.000000   \n",
              "max        1.000000    930.000000   1119.000000   4656.000000   3538.000000   \n",
              "\n",
              "           infected  \n",
              "count  50046.000000  \n",
              "mean       0.310155  \n",
              "std        0.462561  \n",
              "min        0.000000  \n",
              "25%        0.000000  \n",
              "50%        0.000000  \n",
              "75%        1.000000  \n",
              "max        1.000000  \n",
              "\n",
              "[8 rows x 23 columns]"
            ]
          },
          "execution_count": 4,
          "metadata": {},
          "output_type": "execute_result"
        }
      ],
      "source": [
        "data.describe()"
      ]
    },
    {
      "cell_type": "code",
      "execution_count": null,
      "id": "4eec216f",
      "metadata": {
        "id": "4eec216f",
        "outputId": "51e305e6-48d0-4dd6-d9bf-e786a1d2d725"
      },
      "outputs": [
        {
          "data": {
            "text/plain": [
              "Index(['time', 'trt', 'age', 'wtkg', 'hemo', 'homo', 'drugs', 'karnof',\n",
              "       'oprior', 'z30', 'preanti', 'race', 'gender', 'str2', 'strat',\n",
              "       'symptom', 'treat', 'offtrt', 'cd40', 'cd420', 'cd80', 'cd820',\n",
              "       'infected'],\n",
              "      dtype='object')"
            ]
          },
          "execution_count": 5,
          "metadata": {},
          "output_type": "execute_result"
        }
      ],
      "source": [
        "data.columns"
      ]
    },
    {
      "cell_type": "code",
      "execution_count": null,
      "id": "820a746e",
      "metadata": {
        "id": "820a746e",
        "outputId": "8b75056e-c730-44f4-f556-24f04969b034"
      },
      "outputs": [
        {
          "name": "stdout",
          "output_type": "stream",
          "text": [
            "time         0\n",
            "trt          0\n",
            "age         10\n",
            "wtkg        11\n",
            "hemo         0\n",
            "homo         0\n",
            "drugs        2\n",
            "karnof       3\n",
            "oprior       1\n",
            "z30          1\n",
            "preanti      0\n",
            "race         2\n",
            "gender       0\n",
            "str2         0\n",
            "strat        0\n",
            "symptom      0\n",
            "treat        0\n",
            "offtrt       0\n",
            "cd40         0\n",
            "cd420        0\n",
            "cd80         0\n",
            "cd820        0\n",
            "infected     0\n",
            "dtype: int64\n"
          ]
        },
        {
          "data": {
            "text/plain": [
              "(50046, 23)"
            ]
          },
          "execution_count": 6,
          "metadata": {},
          "output_type": "execute_result"
        }
      ],
      "source": [
        "#Checking for null values\n",
        "print(data.isnull().sum())\n",
        "df = data\n",
        "df.shape"
      ]
    },
    {
      "cell_type": "code",
      "execution_count": null,
      "id": "c4404ee4",
      "metadata": {
        "id": "c4404ee4",
        "outputId": "0f610790-e784-4d5b-c5e5-8bd66de5b7f2"
      },
      "outputs": [
        {
          "data": {
            "text/plain": [
              "time        0\n",
              "trt         0\n",
              "age         0\n",
              "wtkg        0\n",
              "hemo        0\n",
              "homo        0\n",
              "drugs       0\n",
              "karnof      0\n",
              "oprior      0\n",
              "z30         0\n",
              "preanti     0\n",
              "race        0\n",
              "gender      0\n",
              "str2        0\n",
              "strat       0\n",
              "symptom     0\n",
              "treat       0\n",
              "offtrt      0\n",
              "cd40        0\n",
              "cd420       0\n",
              "cd80        0\n",
              "cd820       0\n",
              "infected    0\n",
              "dtype: int64"
            ]
          },
          "execution_count": 7,
          "metadata": {},
          "output_type": "execute_result"
        }
      ],
      "source": [
        "#Filling null values\n",
        "col1 = [\"age\",\"wtkg\",\"karnof\"]\n",
        "for i in col1:\n",
        "    df = df.fillna(value = {i:df[i].mean()})\n",
        "\n",
        "col =[\"drugs\", \"oprior\", \"z30\", \"race\"]\n",
        "for i in col:\n",
        "    df = df.fillna(value = {i:df[i].mode()[0]})\n",
        "df.isnull().sum()"
      ]
    },
    {
      "cell_type": "code",
      "execution_count": null,
      "id": "00b483af",
      "metadata": {
        "id": "00b483af",
        "outputId": "ce26c7d6-77c2-4d80-8971-b5c22ee32821"
      },
      "outputs": [
        {
          "data": {
            "text/plain": [
              "46"
            ]
          },
          "execution_count": 8,
          "metadata": {},
          "output_type": "execute_result"
        }
      ],
      "source": [
        "#Finding duplicates\n",
        "df.duplicated().sum()"
      ]
    },
    {
      "cell_type": "code",
      "execution_count": null,
      "id": "b23b465f",
      "metadata": {
        "id": "b23b465f",
        "outputId": "6cfd494e-499c-4e5f-a363-73f6254b038e"
      },
      "outputs": [
        {
          "data": {
            "text/html": [
              "<div>\n",
              "<style scoped>\n",
              "    .dataframe tbody tr th:only-of-type {\n",
              "        vertical-align: middle;\n",
              "    }\n",
              "\n",
              "    .dataframe tbody tr th {\n",
              "        vertical-align: top;\n",
              "    }\n",
              "\n",
              "    .dataframe thead th {\n",
              "        text-align: right;\n",
              "    }\n",
              "</style>\n",
              "<table border=\"1\" class=\"dataframe\">\n",
              "  <thead>\n",
              "    <tr style=\"text-align: right;\">\n",
              "      <th></th>\n",
              "      <th>time</th>\n",
              "      <th>trt</th>\n",
              "      <th>age</th>\n",
              "      <th>wtkg</th>\n",
              "      <th>hemo</th>\n",
              "      <th>homo</th>\n",
              "      <th>drugs</th>\n",
              "      <th>karnof</th>\n",
              "      <th>oprior</th>\n",
              "      <th>z30</th>\n",
              "      <th>...</th>\n",
              "      <th>str2</th>\n",
              "      <th>strat</th>\n",
              "      <th>symptom</th>\n",
              "      <th>treat</th>\n",
              "      <th>offtrt</th>\n",
              "      <th>cd40</th>\n",
              "      <th>cd420</th>\n",
              "      <th>cd80</th>\n",
              "      <th>cd820</th>\n",
              "      <th>infected</th>\n",
              "    </tr>\n",
              "  </thead>\n",
              "  <tbody>\n",
              "    <tr>\n",
              "      <th>0</th>\n",
              "      <td>1073</td>\n",
              "      <td>1</td>\n",
              "      <td>37.0</td>\n",
              "      <td>79.46339</td>\n",
              "      <td>0</td>\n",
              "      <td>1</td>\n",
              "      <td>0.0</td>\n",
              "      <td>100.0</td>\n",
              "      <td>0.0</td>\n",
              "      <td>1.0</td>\n",
              "      <td>...</td>\n",
              "      <td>1</td>\n",
              "      <td>2</td>\n",
              "      <td>0</td>\n",
              "      <td>1</td>\n",
              "      <td>0</td>\n",
              "      <td>322</td>\n",
              "      <td>469</td>\n",
              "      <td>882</td>\n",
              "      <td>754</td>\n",
              "      <td>1</td>\n",
              "    </tr>\n",
              "    <tr>\n",
              "      <th>1</th>\n",
              "      <td>324</td>\n",
              "      <td>0</td>\n",
              "      <td>33.0</td>\n",
              "      <td>73.02314</td>\n",
              "      <td>0</td>\n",
              "      <td>1</td>\n",
              "      <td>0.0</td>\n",
              "      <td>90.0</td>\n",
              "      <td>0.0</td>\n",
              "      <td>1.0</td>\n",
              "      <td>...</td>\n",
              "      <td>1</td>\n",
              "      <td>3</td>\n",
              "      <td>1</td>\n",
              "      <td>1</td>\n",
              "      <td>1</td>\n",
              "      <td>168</td>\n",
              "      <td>575</td>\n",
              "      <td>1035</td>\n",
              "      <td>1525</td>\n",
              "      <td>1</td>\n",
              "    </tr>\n",
              "    <tr>\n",
              "      <th>2</th>\n",
              "      <td>495</td>\n",
              "      <td>1</td>\n",
              "      <td>43.0</td>\n",
              "      <td>69.47793</td>\n",
              "      <td>0</td>\n",
              "      <td>1</td>\n",
              "      <td>0.0</td>\n",
              "      <td>100.0</td>\n",
              "      <td>0.0</td>\n",
              "      <td>1.0</td>\n",
              "      <td>...</td>\n",
              "      <td>1</td>\n",
              "      <td>1</td>\n",
              "      <td>0</td>\n",
              "      <td>0</td>\n",
              "      <td>0</td>\n",
              "      <td>377</td>\n",
              "      <td>333</td>\n",
              "      <td>1147</td>\n",
              "      <td>1088</td>\n",
              "      <td>1</td>\n",
              "    </tr>\n",
              "    <tr>\n",
              "      <th>3</th>\n",
              "      <td>1201</td>\n",
              "      <td>3</td>\n",
              "      <td>42.0</td>\n",
              "      <td>89.15934</td>\n",
              "      <td>0</td>\n",
              "      <td>1</td>\n",
              "      <td>0.0</td>\n",
              "      <td>100.0</td>\n",
              "      <td>1.0</td>\n",
              "      <td>1.0</td>\n",
              "      <td>...</td>\n",
              "      <td>1</td>\n",
              "      <td>3</td>\n",
              "      <td>0</td>\n",
              "      <td>0</td>\n",
              "      <td>0</td>\n",
              "      <td>238</td>\n",
              "      <td>324</td>\n",
              "      <td>775</td>\n",
              "      <td>1019</td>\n",
              "      <td>1</td>\n",
              "    </tr>\n",
              "    <tr>\n",
              "      <th>4</th>\n",
              "      <td>934</td>\n",
              "      <td>0</td>\n",
              "      <td>37.0</td>\n",
              "      <td>137.46581</td>\n",
              "      <td>0</td>\n",
              "      <td>1</td>\n",
              "      <td>0.0</td>\n",
              "      <td>100.0</td>\n",
              "      <td>0.0</td>\n",
              "      <td>0.0</td>\n",
              "      <td>...</td>\n",
              "      <td>0</td>\n",
              "      <td>3</td>\n",
              "      <td>0</td>\n",
              "      <td>0</td>\n",
              "      <td>1</td>\n",
              "      <td>500</td>\n",
              "      <td>443</td>\n",
              "      <td>1601</td>\n",
              "      <td>849</td>\n",
              "      <td>0</td>\n",
              "    </tr>\n",
              "    <tr>\n",
              "      <th>...</th>\n",
              "      <td>...</td>\n",
              "      <td>...</td>\n",
              "      <td>...</td>\n",
              "      <td>...</td>\n",
              "      <td>...</td>\n",
              "      <td>...</td>\n",
              "      <td>...</td>\n",
              "      <td>...</td>\n",
              "      <td>...</td>\n",
              "      <td>...</td>\n",
              "      <td>...</td>\n",
              "      <td>...</td>\n",
              "      <td>...</td>\n",
              "      <td>...</td>\n",
              "      <td>...</td>\n",
              "      <td>...</td>\n",
              "      <td>...</td>\n",
              "      <td>...</td>\n",
              "      <td>...</td>\n",
              "      <td>...</td>\n",
              "      <td>...</td>\n",
              "    </tr>\n",
              "    <tr>\n",
              "      <th>49995</th>\n",
              "      <td>953</td>\n",
              "      <td>3</td>\n",
              "      <td>46.0</td>\n",
              "      <td>61.28204</td>\n",
              "      <td>0</td>\n",
              "      <td>0</td>\n",
              "      <td>0.0</td>\n",
              "      <td>90.0</td>\n",
              "      <td>0.0</td>\n",
              "      <td>1.0</td>\n",
              "      <td>...</td>\n",
              "      <td>1</td>\n",
              "      <td>3</td>\n",
              "      <td>0</td>\n",
              "      <td>1</td>\n",
              "      <td>1</td>\n",
              "      <td>234</td>\n",
              "      <td>402</td>\n",
              "      <td>481</td>\n",
              "      <td>1014</td>\n",
              "      <td>0</td>\n",
              "    </tr>\n",
              "    <tr>\n",
              "      <th>49996</th>\n",
              "      <td>1036</td>\n",
              "      <td>0</td>\n",
              "      <td>42.0</td>\n",
              "      <td>73.36768</td>\n",
              "      <td>0</td>\n",
              "      <td>1</td>\n",
              "      <td>0.0</td>\n",
              "      <td>100.0</td>\n",
              "      <td>0.0</td>\n",
              "      <td>1.0</td>\n",
              "      <td>...</td>\n",
              "      <td>1</td>\n",
              "      <td>3</td>\n",
              "      <td>0</td>\n",
              "      <td>0</td>\n",
              "      <td>1</td>\n",
              "      <td>369</td>\n",
              "      <td>575</td>\n",
              "      <td>514</td>\n",
              "      <td>657</td>\n",
              "      <td>0</td>\n",
              "    </tr>\n",
              "    <tr>\n",
              "      <th>49997</th>\n",
              "      <td>1157</td>\n",
              "      <td>0</td>\n",
              "      <td>40.0</td>\n",
              "      <td>78.75824</td>\n",
              "      <td>0</td>\n",
              "      <td>1</td>\n",
              "      <td>0.0</td>\n",
              "      <td>100.0</td>\n",
              "      <td>0.0</td>\n",
              "      <td>1.0</td>\n",
              "      <td>...</td>\n",
              "      <td>1</td>\n",
              "      <td>1</td>\n",
              "      <td>0</td>\n",
              "      <td>1</td>\n",
              "      <td>0</td>\n",
              "      <td>308</td>\n",
              "      <td>663</td>\n",
              "      <td>1581</td>\n",
              "      <td>863</td>\n",
              "      <td>0</td>\n",
              "    </tr>\n",
              "    <tr>\n",
              "      <th>49998</th>\n",
              "      <td>596</td>\n",
              "      <td>0</td>\n",
              "      <td>31.0</td>\n",
              "      <td>52.20371</td>\n",
              "      <td>0</td>\n",
              "      <td>0</td>\n",
              "      <td>0.0</td>\n",
              "      <td>100.0</td>\n",
              "      <td>0.0</td>\n",
              "      <td>1.0</td>\n",
              "      <td>...</td>\n",
              "      <td>1</td>\n",
              "      <td>1</td>\n",
              "      <td>0</td>\n",
              "      <td>1</td>\n",
              "      <td>1</td>\n",
              "      <td>349</td>\n",
              "      <td>440</td>\n",
              "      <td>470</td>\n",
              "      <td>865</td>\n",
              "      <td>1</td>\n",
              "    </tr>\n",
              "    <tr>\n",
              "      <th>49999</th>\n",
              "      <td>612</td>\n",
              "      <td>2</td>\n",
              "      <td>41.0</td>\n",
              "      <td>77.12100</td>\n",
              "      <td>0</td>\n",
              "      <td>1</td>\n",
              "      <td>0.0</td>\n",
              "      <td>90.0</td>\n",
              "      <td>0.0</td>\n",
              "      <td>1.0</td>\n",
              "      <td>...</td>\n",
              "      <td>1</td>\n",
              "      <td>3</td>\n",
              "      <td>0</td>\n",
              "      <td>1</td>\n",
              "      <td>0</td>\n",
              "      <td>428</td>\n",
              "      <td>396</td>\n",
              "      <td>1002</td>\n",
              "      <td>696</td>\n",
              "      <td>0</td>\n",
              "    </tr>\n",
              "  </tbody>\n",
              "</table>\n",
              "<p>50000 rows × 23 columns</p>\n",
              "</div>"
            ],
            "text/plain": [
              "       time  trt   age       wtkg  hemo  homo  drugs  karnof  oprior  z30  \\\n",
              "0      1073    1  37.0   79.46339     0     1    0.0   100.0     0.0  1.0   \n",
              "1       324    0  33.0   73.02314     0     1    0.0    90.0     0.0  1.0   \n",
              "2       495    1  43.0   69.47793     0     1    0.0   100.0     0.0  1.0   \n",
              "3      1201    3  42.0   89.15934     0     1    0.0   100.0     1.0  1.0   \n",
              "4       934    0  37.0  137.46581     0     1    0.0   100.0     0.0  0.0   \n",
              "...     ...  ...   ...        ...   ...   ...    ...     ...     ...  ...   \n",
              "49995   953    3  46.0   61.28204     0     0    0.0    90.0     0.0  1.0   \n",
              "49996  1036    0  42.0   73.36768     0     1    0.0   100.0     0.0  1.0   \n",
              "49997  1157    0  40.0   78.75824     0     1    0.0   100.0     0.0  1.0   \n",
              "49998   596    0  31.0   52.20371     0     0    0.0   100.0     0.0  1.0   \n",
              "49999   612    2  41.0   77.12100     0     1    0.0    90.0     0.0  1.0   \n",
              "\n",
              "       ...  str2  strat  symptom  treat  offtrt  cd40  cd420  cd80  cd820  \\\n",
              "0      ...     1      2        0      1       0   322    469   882    754   \n",
              "1      ...     1      3        1      1       1   168    575  1035   1525   \n",
              "2      ...     1      1        0      0       0   377    333  1147   1088   \n",
              "3      ...     1      3        0      0       0   238    324   775   1019   \n",
              "4      ...     0      3        0      0       1   500    443  1601    849   \n",
              "...    ...   ...    ...      ...    ...     ...   ...    ...   ...    ...   \n",
              "49995  ...     1      3        0      1       1   234    402   481   1014   \n",
              "49996  ...     1      3        0      0       1   369    575   514    657   \n",
              "49997  ...     1      1        0      1       0   308    663  1581    863   \n",
              "49998  ...     1      1        0      1       1   349    440   470    865   \n",
              "49999  ...     1      3        0      1       0   428    396  1002    696   \n",
              "\n",
              "       infected  \n",
              "0             1  \n",
              "1             1  \n",
              "2             1  \n",
              "3             1  \n",
              "4             0  \n",
              "...         ...  \n",
              "49995         0  \n",
              "49996         0  \n",
              "49997         0  \n",
              "49998         1  \n",
              "49999         0  \n",
              "\n",
              "[50000 rows x 23 columns]"
            ]
          },
          "execution_count": 9,
          "metadata": {},
          "output_type": "execute_result"
        }
      ],
      "source": [
        "#Droping duplicate values\n",
        "df = df.drop_duplicates(keep = \"first\")\n",
        "df"
      ]
    },
    {
      "cell_type": "code",
      "execution_count": null,
      "id": "541849c0",
      "metadata": {
        "id": "541849c0",
        "outputId": "d05e4efa-3ebd-4bb1-8f5b-64abec9efe27"
      },
      "outputs": [
        {
          "data": {
            "text/plain": [
              "0"
            ]
          },
          "execution_count": 10,
          "metadata": {},
          "output_type": "execute_result"
        }
      ],
      "source": [
        "df.duplicated().sum()"
      ]
    },
    {
      "cell_type": "code",
      "execution_count": null,
      "id": "1f33cf92",
      "metadata": {
        "id": "1f33cf92",
        "outputId": "223c29ef-bfcf-42aa-af6f-89dd76c3124f"
      },
      "outputs": [
        {
          "data": {
            "text/plain": [
              "<function matplotlib.pyplot.show(close=None, block=None)>"
            ]
          },
          "execution_count": 11,
          "metadata": {},
          "output_type": "execute_result"
        },
        {
          "data": {
            "image/png": "[encoded data removed]",
            "text/plain": [
              "<Figure size 640x480 with 1 Axes>"
            ]
          },
          "metadata": {},
          "output_type": "display_data"
        }
      ],
      "source": [
        "#Analyzing outcomes\n",
        "sns.countplot(df['infected'],label=\"Count\")\n",
        "plt.show"
      ]
    },
    {
      "cell_type": "code",
      "execution_count": null,
      "id": "7a476fdd",
      "metadata": {
        "scrolled": true,
        "id": "7a476fdd",
        "outputId": "ae9629b6-42a1-404c-b9bb-ef08712a29dc"
      },
      "outputs": [
        {
          "name": "stdout",
          "output_type": "stream",
          "text": [
            "time\n",
            "0\n",
            "trt\n",
            "0\n",
            "age\n",
            "358\n",
            "wtkg\n",
            "2247\n",
            "hemo\n",
            "1674\n",
            "homo\n",
            "0\n",
            "drugs\n",
            "6610\n",
            "karnof\n",
            "0\n",
            "oprior\n",
            "2115\n",
            "z30\n",
            "0\n",
            "preanti\n",
            "1621\n",
            "race\n",
            "0\n",
            "gender\n",
            "7165\n",
            "str2\n",
            "0\n",
            "strat\n",
            "0\n",
            "symptom\n",
            "4173\n",
            "treat\n",
            "0\n",
            "offtrt\n",
            "0\n",
            "cd40\n",
            "189\n",
            "cd420\n",
            "388\n",
            "cd80\n",
            "2618\n",
            "cd820\n",
            "1095\n",
            "infected\n",
            "0\n"
          ]
        },
        {
          "data": {
            "image/png": "[encoded data removed]",
            "text/plain": [
              "<Figure size 1300x200 with 1 Axes>"
            ]
          },
          "metadata": {},
          "output_type": "display_data"
        },
        {
          "data": {
            "image/png": "[encoded data removed]",
            "text/plain": [
              "<Figure size 1300x200 with 1 Axes>"
            ]
          },
          "metadata": {},
          "output_type": "display_data"
        },
        {
          "data": {
            "image/png": "[encoded data removed]",
            "text/plain": [
              "<Figure size 1300x200 with 1 Axes>"
            ]
          },
          "metadata": {},
          "output_type": "display_data"
        },
        {
          "data": {
            "image/png": "[encoded data removed]",
            "text/plain": [
              "<Figure size 1300x200 with 1 Axes>"
            ]
          },
          "metadata": {},
          "output_type": "display_data"
        },
        {
          "data": {
            "image/png": "[encoded data removed]",
            "text/plain": [
              "<Figure size 1300x200 with 1 Axes>"
            ]
          },
          "metadata": {},
          "output_type": "display_data"
        },
        {
          "data": {
            "image/png": "[encoded data removed]",
            "text/plain": [
              "<Figure size 1300x200 with 1 Axes>"
            ]
          },
          "metadata": {},
          "output_type": "display_data"
        },
        {
          "data": {
            "image/png": "[encoded data removed]",
            "text/plain": [
              "<Figure size 1300x200 with 1 Axes>"
            ]
          },
          "metadata": {},
          "output_type": "display_data"
        },
        {
          "data": {
            "image/png": "[encoded data removed]",
            "text/plain": [
              "<Figure size 1300x200 with 1 Axes>"
            ]
          },
          "metadata": {},
          "output_type": "display_data"
        },
        {
          "data": {
            "image/png": "[encoded data removed]",
            "text/plain": [
              "<Figure size 1300x200 with 1 Axes>"
            ]
          },
          "metadata": {},
          "output_type": "display_data"
        },
        {
          "data": {
            "image/png": "[encoded data removed]",
            "text/plain": [
              "<Figure size 1300x200 with 1 Axes>"
            ]
          },
          "metadata": {},
          "output_type": "display_data"
        },
        {
          "data": {
            "image/png": "[encoded data removed]",
            "text/plain": [
              "<Figure size 1300x200 with 1 Axes>"
            ]
          },
          "metadata": {},
          "output_type": "display_data"
        },
        {
          "data": {
            "image/png": "[encoded data removed]",
            "text/plain": [
              "<Figure size 1300x200 with 1 Axes>"
            ]
          },
          "metadata": {},
          "output_type": "display_data"
        },
        {
          "data": {
            "image/png": "[encoded data removed]",
            "text/plain": [
              "<Figure size 1300x200 with 1 Axes>"
            ]
          },
          "metadata": {},
          "output_type": "display_data"
        },
        {
          "data": {
            "image/png": "[encoded data removed]",
            "text/plain": [
              "<Figure size 1300x200 with 1 Axes>"
            ]
          },
          "metadata": {},
          "output_type": "display_data"
        },
        {
          "data": {
            "image/png": "[encoded data removed]",
            "text/plain": [
              "<Figure size 1300x200 with 1 Axes>"
            ]
          },
          "metadata": {},
          "output_type": "display_data"
        },
        {
          "data": {
            "image/png": "[encoded data removed]",
            "text/plain": [
              "<Figure size 1300x200 with 1 Axes>"
            ]
          },
          "metadata": {},
          "output_type": "display_data"
        },
        {
          "data": {
            "image/png": "[encoded data removed]",
            "text/plain": [
              "<Figure size 1300x200 with 1 Axes>"
            ]
          },
          "metadata": {},
          "output_type": "display_data"
        },
        {
          "data": {
            "image/png": "[encoded data removed]",
            "text/plain": [
              "<Figure size 1300x200 with 1 Axes>"
            ]
          },
          "metadata": {},
          "output_type": "display_data"
        },
        {
          "data": {
            "image/png": "[encoded data removed]",
            "text/plain": [
              "<Figure size 1300x200 with 1 Axes>"
            ]
          },
          "metadata": {},
          "output_type": "display_data"
        },
        {
          "data": {
            "image/png": "[encoded data removed]",
            "text/plain": [
              "<Figure size 1300x200 with 1 Axes>"
            ]
          },
          "metadata": {},
          "output_type": "display_data"
        },
        {
          "data": {
            "image/png": "[encoded data removed]",
            "text/plain": [
              "<Figure size 1300x200 with 1 Axes>"
            ]
          },
          "metadata": {},
          "output_type": "display_data"
        },
        {
          "data": {
            "image/png": "[encoded data removed]",
            "text/plain": [
              "<Figure size 1300x200 with 1 Axes>"
            ]
          },
          "metadata": {},
          "output_type": "display_data"
        },
        {
          "data": {
            "image/png": "[encoded data removed]",
            "text/plain": [
              "<Figure size 1300x200 with 1 Axes>"
            ]
          },
          "metadata": {},
          "output_type": "display_data"
        }
      ],
      "source": [
        "#Finding interquartile range\n",
        "col = df.columns\n",
        "for i in col:\n",
        "    plt.figure(figsize=(13,2))\n",
        "    sns.boxplot(x=df[i],palette = \"Blues\")\n",
        "    plt.title(i)\n",
        "    q1 = df[i].quantile(0.25)\n",
        "    q3 = df[i].quantile(0.75)\n",
        "    iqr = q3-q1\n",
        "    lb = q1 - 1.5*iqr\n",
        "    ub = q3 + 1.5*iqr\n",
        "    col = df[i]\n",
        "    out = col[(col<lb)|(col>ub)]\n",
        "    print(i)\n",
        "    print(len(out))\n"
      ]
    },
    {
      "cell_type": "code",
      "execution_count": null,
      "id": "da738d62",
      "metadata": {
        "id": "da738d62",
        "outputId": "bdad1361-6619-4ef5-a1c0-f9927ba9f85d"
      },
      "outputs": [
        {
          "data": {
            "text/plain": [
              "(47753, 23)"
            ]
          },
          "execution_count": 14,
          "metadata": {},
          "output_type": "execute_result"
        }
      ],
      "source": [
        "#Removing outlayers\n",
        "col = [\"age\",\"wtkg\"]\n",
        "for i in col:\n",
        "    q1 = df[i].quantile(0.25)\n",
        "    q3 = df[i].quantile(0.75)\n",
        "    iqr = q3-q1\n",
        "    lb = q1 - 1.5*iqr\n",
        "    ub = q3 + 1.5*iqr\n",
        "    df1 = df[(df[i] >= lb)&(df[i]<= ub)]\n",
        "df1.shape"
      ]
    },
    {
      "cell_type": "code",
      "execution_count": null,
      "id": "d0ff2b58",
      "metadata": {
        "id": "d0ff2b58",
        "outputId": "f3e2d29e-07f2-4a89-e154-a8ee768df263"
      },
      "outputs": [
        {
          "data": {
            "text/html": [
              "<div>\n",
              "<style scoped>\n",
              "    .dataframe tbody tr th:only-of-type {\n",
              "        vertical-align: middle;\n",
              "    }\n",
              "\n",
              "    .dataframe tbody tr th {\n",
              "        vertical-align: top;\n",
              "    }\n",
              "\n",
              "    .dataframe thead th {\n",
              "        text-align: right;\n",
              "    }\n",
              "</style>\n",
              "<table border=\"1\" class=\"dataframe\">\n",
              "  <thead>\n",
              "    <tr style=\"text-align: right;\">\n",
              "      <th></th>\n",
              "      <th>0</th>\n",
              "      <th>1</th>\n",
              "      <th>2</th>\n",
              "      <th>3</th>\n",
              "      <th>4</th>\n",
              "      <th>5</th>\n",
              "      <th>6</th>\n",
              "      <th>7</th>\n",
              "      <th>8</th>\n",
              "      <th>9</th>\n",
              "      <th>...</th>\n",
              "      <th>12</th>\n",
              "      <th>13</th>\n",
              "      <th>14</th>\n",
              "      <th>15</th>\n",
              "      <th>16</th>\n",
              "      <th>17</th>\n",
              "      <th>18</th>\n",
              "      <th>19</th>\n",
              "      <th>20</th>\n",
              "      <th>21</th>\n",
              "    </tr>\n",
              "  </thead>\n",
              "  <tbody>\n",
              "    <tr>\n",
              "      <th>0</th>\n",
              "      <td>0.639249</td>\n",
              "      <td>-0.310425</td>\n",
              "      <td>0.397275</td>\n",
              "      <td>0.548794</td>\n",
              "      <td>-0.187512</td>\n",
              "      <td>0.731115</td>\n",
              "      <td>-0.390914</td>\n",
              "      <td>0.624338</td>\n",
              "      <td>-0.210382</td>\n",
              "      <td>0.738854</td>\n",
              "      <td>...</td>\n",
              "      <td>0.410032</td>\n",
              "      <td>0.848651</td>\n",
              "      <td>0.060091</td>\n",
              "      <td>-0.301659</td>\n",
              "      <td>0.601501</td>\n",
              "      <td>-0.721931</td>\n",
              "      <td>0.034522</td>\n",
              "      <td>0.221665</td>\n",
              "      <td>-0.335019</td>\n",
              "      <td>-0.447619</td>\n",
              "    </tr>\n",
              "    <tr>\n",
              "      <th>1</th>\n",
              "      <td>-1.795004</td>\n",
              "      <td>-1.121527</td>\n",
              "      <td>-0.166797</td>\n",
              "      <td>-0.136907</td>\n",
              "      <td>-0.187512</td>\n",
              "      <td>0.731115</td>\n",
              "      <td>-0.390914</td>\n",
              "      <td>-1.336845</td>\n",
              "      <td>-0.210382</td>\n",
              "      <td>0.738854</td>\n",
              "      <td>...</td>\n",
              "      <td>0.410032</td>\n",
              "      <td>0.848651</td>\n",
              "      <td>1.177067</td>\n",
              "      <td>3.314997</td>\n",
              "      <td>0.601501</td>\n",
              "      <td>1.385175</td>\n",
              "      <td>-1.469748</td>\n",
              "      <td>0.954809</td>\n",
              "      <td>-0.021948</td>\n",
              "      <td>1.824568</td>\n",
              "    </tr>\n",
              "    <tr>\n",
              "      <th>2</th>\n",
              "      <td>-1.239254</td>\n",
              "      <td>-0.310425</td>\n",
              "      <td>1.243383</td>\n",
              "      <td>-0.514369</td>\n",
              "      <td>-0.187512</td>\n",
              "      <td>0.731115</td>\n",
              "      <td>-0.390914</td>\n",
              "      <td>0.624338</td>\n",
              "      <td>-0.210382</td>\n",
              "      <td>0.738854</td>\n",
              "      <td>...</td>\n",
              "      <td>-2.438834</td>\n",
              "      <td>0.848651</td>\n",
              "      <td>-1.056885</td>\n",
              "      <td>-0.301659</td>\n",
              "      <td>-1.662508</td>\n",
              "      <td>-0.721931</td>\n",
              "      <td>0.571762</td>\n",
              "      <td>-0.718973</td>\n",
              "      <td>0.207228</td>\n",
              "      <td>0.536701</td>\n",
              "    </tr>\n",
              "    <tr>\n",
              "      <th>3</th>\n",
              "      <td>1.055250</td>\n",
              "      <td>1.311780</td>\n",
              "      <td>1.102365</td>\n",
              "      <td>1.581132</td>\n",
              "      <td>-0.187512</td>\n",
              "      <td>0.731115</td>\n",
              "      <td>-0.390914</td>\n",
              "      <td>0.624338</td>\n",
              "      <td>4.753249</td>\n",
              "      <td>0.738854</td>\n",
              "      <td>...</td>\n",
              "      <td>0.410032</td>\n",
              "      <td>0.848651</td>\n",
              "      <td>1.177067</td>\n",
              "      <td>-0.301659</td>\n",
              "      <td>-1.662508</td>\n",
              "      <td>-0.721931</td>\n",
              "      <td>-0.785989</td>\n",
              "      <td>-0.781221</td>\n",
              "      <td>-0.553965</td>\n",
              "      <td>0.333353</td>\n",
              "    </tr>\n",
              "    <tr>\n",
              "      <th>4</th>\n",
              "      <td>-1.015003</td>\n",
              "      <td>0.500678</td>\n",
              "      <td>0.397275</td>\n",
              "      <td>-0.258700</td>\n",
              "      <td>-0.187512</td>\n",
              "      <td>0.731115</td>\n",
              "      <td>-0.390914</td>\n",
              "      <td>-1.336845</td>\n",
              "      <td>-0.210382</td>\n",
              "      <td>0.738854</td>\n",
              "      <td>...</td>\n",
              "      <td>0.410032</td>\n",
              "      <td>0.848651</td>\n",
              "      <td>0.060091</td>\n",
              "      <td>-0.301659</td>\n",
              "      <td>0.601501</td>\n",
              "      <td>1.385175</td>\n",
              "      <td>1.968584</td>\n",
              "      <td>0.733482</td>\n",
              "      <td>-0.625582</td>\n",
              "      <td>-0.624443</td>\n",
              "    </tr>\n",
              "  </tbody>\n",
              "</table>\n",
              "<p>5 rows × 22 columns</p>\n",
              "</div>"
            ],
            "text/plain": [
              "         0         1         2         3         4         5         6   \\\n",
              "0  0.639249 -0.310425  0.397275  0.548794 -0.187512  0.731115 -0.390914   \n",
              "1 -1.795004 -1.121527 -0.166797 -0.136907 -0.187512  0.731115 -0.390914   \n",
              "2 -1.239254 -0.310425  1.243383 -0.514369 -0.187512  0.731115 -0.390914   \n",
              "3  1.055250  1.311780  1.102365  1.581132 -0.187512  0.731115 -0.390914   \n",
              "4 -1.015003  0.500678  0.397275 -0.258700 -0.187512  0.731115 -0.390914   \n",
              "\n",
              "         7         8         9   ...        12        13        14        15  \\\n",
              "0  0.624338 -0.210382  0.738854  ...  0.410032  0.848651  0.060091 -0.301659   \n",
              "1 -1.336845 -0.210382  0.738854  ...  0.410032  0.848651  1.177067  3.314997   \n",
              "2  0.624338 -0.210382  0.738854  ... -2.438834  0.848651 -1.056885 -0.301659   \n",
              "3  0.624338  4.753249  0.738854  ...  0.410032  0.848651  1.177067 -0.301659   \n",
              "4 -1.336845 -0.210382  0.738854  ...  0.410032  0.848651  0.060091 -0.301659   \n",
              "\n",
              "         16        17        18        19        20        21  \n",
              "0  0.601501 -0.721931  0.034522  0.221665 -0.335019 -0.447619  \n",
              "1  0.601501  1.385175 -1.469748  0.954809 -0.021948  1.824568  \n",
              "2 -1.662508 -0.721931  0.571762 -0.718973  0.207228  0.536701  \n",
              "3 -1.662508 -0.721931 -0.785989 -0.781221 -0.553965  0.333353  \n",
              "4  0.601501  1.385175  1.968584  0.733482 -0.625582 -0.624443  \n",
              "\n",
              "[5 rows x 22 columns]"
            ]
          },
          "execution_count": 15,
          "metadata": {},
          "output_type": "execute_result"
        }
      ],
      "source": [
        "#Stanadardizing and Normalization the data\n",
        "from sklearn.preprocessing import StandardScaler\n",
        "scaler = StandardScaler()\n",
        "xtr = df1.drop(\"infected\",axis = True)\n",
        "ytr = df1[\"infected\"]\n",
        "xtr.head()\n",
        "df2 = pd.DataFrame(scaler.fit_transform(xtr))\n",
        "df2.head()"
      ]
    },
    {
      "cell_type": "code",
      "execution_count": null,
      "id": "8544d87a",
      "metadata": {
        "id": "8544d87a",
        "outputId": "c81e6205-f2b9-4694-adca-7d4b9dada9aa"
      },
      "outputs": [
        {
          "data": {
            "text/plain": [
              "(14326, 22)"
            ]
          },
          "execution_count": 16,
          "metadata": {},
          "output_type": "execute_result"
        }
      ],
      "source": [
        "#Spliting the data\n",
        "from sklearn.model_selection import train_test_split\n",
        "x_train, x_test, y_train, y_test = train_test_split(df2,ytr, test_size=0.3, random_state=42)\n",
        "x_test.shape"
      ]
    },
    {
      "cell_type": "code",
      "execution_count": null,
      "id": "af8976fa",
      "metadata": {
        "id": "af8976fa"
      },
      "outputs": [],
      "source": [
        "#importing models and evaluation metrics\n",
        "from sklearn.linear_model import LogisticRegression\n",
        "from sklearn.tree import DecisionTreeClassifier\n",
        "from sklearn.ensemble import RandomForestClassifier\n",
        "from sklearn.neighbors import KNeighborsClassifier\n",
        "from sklearn.svm import SVC\n",
        "from xgboost import XGBClassifier\n",
        "from sklearn.metrics import accuracy_score, confusion_matrix, classification_report"
      ]
    },
    {
      "cell_type": "markdown",
      "id": "c20665ca",
      "metadata": {
        "id": "c20665ca"
      },
      "source": [
        "**Logistic Regression**"
      ]
    },
    {
      "cell_type": "code",
      "execution_count": null,
      "id": "c24679ff",
      "metadata": {
        "id": "c24679ff"
      },
      "outputs": [],
      "source": [
        "# Ananlysing Logistic Regresion for different iteration values\n",
        "at = []\n",
        "ats = []\n",
        "r = []\n",
        "for i in range(100,5000,500):\n",
        "    r.append(i)\n",
        "    log = LogisticRegression(fit_intercept = True, max_iter=i)\n",
        "    log.fit(x_train,y_train)\n",
        "    y_pred = log.predict(x_test)\n",
        "    y_tpred = log.predict(x_train)\n",
        "    a_stest = accuracy_score(y_test,y_pred)\n",
        "    at.append(a_stest)\n",
        "    a_strain = accuracy_score(y_train,y_tpred)\n",
        "    ats.append(a_strain)"
      ]
    },
    {
      "cell_type": "code",
      "execution_count": null,
      "id": "1ce683c0",
      "metadata": {
        "scrolled": true,
        "id": "1ce683c0",
        "outputId": "66c58a46-b50a-4c76-e9a4-06816ef4263e"
      },
      "outputs": [
        {
          "data": {
            "text/plain": [
              "<matplotlib.legend.Legend at 0x1ab6edf1880>"
            ]
          },
          "execution_count": 65,
          "metadata": {},
          "output_type": "execute_result"
        },
        {
          "data": {
            "image/png": "[encoded data removed]",
            "text/plain": [
              "<Figure size 640x480 with 1 Axes>"
            ]
          },
          "metadata": {},
          "output_type": "display_data"
        }
      ],
      "source": [
        "# Plotting accurasy\n",
        "plt.plot(r,at,'r', label=\"Test Data Predection\")\n",
        "plt.plot(r,ats,'b--', label = \"Train Data Predection\")\n",
        "plt.legend()"
      ]
    },
    {
      "cell_type": "code",
      "execution_count": null,
      "id": "6dae94c4",
      "metadata": {
        "scrolled": true,
        "id": "6dae94c4",
        "outputId": "018ba5bb-17be-4f8d-9363-8585fa9d7d09"
      },
      "outputs": [
        {
          "name": "stdout",
          "output_type": "stream",
          "text": [
            "Report for Test Prediction : \n",
            "               precision    recall  f1-score   support\n",
            "\n",
            "           0       0.73      0.92      0.81      9907\n",
            "           1       0.56      0.23      0.33      4419\n",
            "\n",
            "    accuracy                           0.71     14326\n",
            "   macro avg       0.65      0.58      0.57     14326\n",
            "weighted avg       0.68      0.71      0.66     14326\n",
            "\n",
            "\n",
            " Report for Train Predection : \n",
            "               precision    recall  f1-score   support\n",
            "\n",
            "           0       0.72      0.92      0.81     22921\n",
            "           1       0.57      0.23      0.33     10506\n",
            "\n",
            "    accuracy                           0.70     33427\n",
            "   macro avg       0.65      0.58      0.57     33427\n",
            "weighted avg       0.68      0.70      0.66     33427\n",
            "\n",
            "\n",
            " Confusion Matrix : \n",
            " [[9117  790]\n",
            " [3393 1026]]\n"
          ]
        }
      ],
      "source": [
        "log_best = LogisticRegression(fit_intercept = True, max_iter=600)\n",
        "log_best.fit(x_train,y_train)\n",
        "pred_test = log.predict(x_test)\n",
        "pred_train = log.predict(x_train)\n",
        "report_test = classification_report(y_test,pred_test)\n",
        "report_train = classification_report(y_train,pred_train)\n",
        "cm = confusion_matrix(y_test,pred_test)\n",
        "print(\"Report for Test Prediction : \\n\",report_test)\n",
        "print(\"\\n Report for Train Predection : \\n\",report_train)\n",
        "print(\"\\n Confusion Matrix : \\n\",cm)"
      ]
    },
    {
      "cell_type": "markdown",
      "id": "38b495bc",
      "metadata": {
        "id": "38b495bc"
      },
      "source": [
        "**Decision Tree**"
      ]
    },
    {
      "cell_type": "code",
      "execution_count": null,
      "id": "470c4187",
      "metadata": {
        "id": "470c4187"
      },
      "outputs": [],
      "source": [
        "# Decision Tree\n",
        "train_acc =[]\n",
        "test_acc=[]\n",
        "split = []\n",
        "for i in range(100,10000,500):\n",
        "    split.append(i)\n",
        "    dt = DecisionTreeClassifier(random_state =49,min_samples_split=i)\n",
        "    dt.fit(x_train, y_train)\n",
        "    pred_test = dt.predict(x_test)\n",
        "    pred_train = dt.predict(x_train)\n",
        "\n",
        "    train_acc.append(accuracy_score(pred_train,y_train))\n",
        "    test_acc.append(accuracy_score(pred_test,y_test))"
      ]
    },
    {
      "cell_type": "code",
      "execution_count": null,
      "id": "812c7574",
      "metadata": {
        "id": "812c7574",
        "outputId": "94067c1e-e270-4369-823f-2fe869fa3aa9"
      },
      "outputs": [
        {
          "data": {
            "text/plain": [
              "<matplotlib.legend.Legend at 0x1ab61de3ac0>"
            ]
          },
          "execution_count": 43,
          "metadata": {},
          "output_type": "execute_result"
        },
        {
          "data": {
            "image/png": "[encoded data removed]",
            "text/plain": [
              "<Figure size 640x480 with 1 Axes>"
            ]
          },
          "metadata": {},
          "output_type": "display_data"
        }
      ],
      "source": [
        "# Plotting accurasy\n",
        "plt.plot(split,test_acc,'r', label=\"Test Data Predection\")\n",
        "plt.plot(split,train_acc,'b--', label = \"Train Data Predection\")\n",
        "plt.legend()"
      ]
    },
    {
      "cell_type": "code",
      "execution_count": null,
      "id": "a712bf34",
      "metadata": {
        "id": "a712bf34",
        "outputId": "dba0abe4-0f9b-454a-906a-ec7693389cc3"
      },
      "outputs": [
        {
          "name": "stdout",
          "output_type": "stream",
          "text": [
            "Report for Test Prediction : \n",
            "               precision    recall  f1-score   support\n",
            "\n",
            "           0       0.71      0.96      0.81      9907\n",
            "           1       0.55      0.12      0.20      4419\n",
            "\n",
            "    accuracy                           0.70     14326\n",
            "   macro avg       0.63      0.54      0.51     14326\n",
            "weighted avg       0.66      0.70      0.63     14326\n",
            "\n",
            "\n",
            " Report for Train Predection : \n",
            "               precision    recall  f1-score   support\n",
            "\n",
            "           0       0.71      0.96      0.81     22921\n",
            "           1       0.60      0.13      0.21     10506\n",
            "\n",
            "    accuracy                           0.70     33427\n",
            "   macro avg       0.66      0.54      0.51     33427\n",
            "weighted avg       0.67      0.70      0.63     33427\n",
            "\n",
            "\n",
            " Confusion Matrix : \n",
            " [[9465  442]\n",
            " [3875  544]]\n"
          ]
        }
      ],
      "source": [
        "dt = DecisionTreeClassifier(random_state =49,min_samples_split=3000)\n",
        "dt.fit(x_train, y_train)\n",
        "pred_test = dt.predict(x_test)\n",
        "pred_train = dt.predict(x_train)\n",
        "report_test = classification_report(y_test,pred_test)\n",
        "report_train = classification_report(y_train,pred_train)\n",
        "cm = confusion_matrix(y_test,pred_test)\n",
        "print(\"Report for Test Prediction : \\n\",report_test)\n",
        "print(\"\\n Report for Train Predection : \\n\",report_train)\n",
        "print(\"\\n Confusion Matrix : \\n\",cm)"
      ]
    },
    {
      "cell_type": "markdown",
      "id": "82bd881d",
      "metadata": {
        "id": "82bd881d"
      },
      "source": [
        "**Random Forest**"
      ]
    },
    {
      "cell_type": "code",
      "execution_count": null,
      "id": "ecc91a8a",
      "metadata": {
        "id": "ecc91a8a"
      },
      "outputs": [],
      "source": [
        "# Random Forest\n",
        "train_acc=[]\n",
        "test_acc=[]\n",
        "esti=[]\n",
        "for i in range(1,10):\n",
        "    esti.append(i)\n",
        "    rfc = RandomForestClassifier(n_estimators=i)\n",
        "    rfc.fit(x_train,y_train)\n",
        "    pred_test = rfc.predict(x_test)\n",
        "    pred_train = rfc.predict(x_train)\n",
        "    train_acc.append(accuracy_score(pred_train,y_train))\n",
        "    test_acc.append(accuracy_score(pred_test,y_test))\n"
      ]
    },
    {
      "cell_type": "code",
      "execution_count": null,
      "id": "34dedb55",
      "metadata": {
        "id": "34dedb55",
        "outputId": "88a7639a-6ec8-46f6-d97c-2e8cd920cc12"
      },
      "outputs": [
        {
          "data": {
            "image/png": "[encoded data removed]",
            "text/plain": [
              "<Figure size 640x480 with 1 Axes>"
            ]
          },
          "metadata": {},
          "output_type": "display_data"
        }
      ],
      "source": [
        "# Plotting accurasy\n",
        "plt.plot(esti,test_acc,'r',label=\"Test Data\")\n",
        "plt.plot(esti,train_acc,'b--',label=\"Train Data\")\n",
        "plt.legend()\n",
        "plt.grid()"
      ]
    },
    {
      "cell_type": "code",
      "execution_count": null,
      "id": "0c110b54",
      "metadata": {
        "id": "0c110b54",
        "outputId": "55c2cfd7-b7dc-45b6-ecdb-8c698ab95fdb"
      },
      "outputs": [
        {
          "name": "stdout",
          "output_type": "stream",
          "text": [
            "Report for Test Prediction : \n",
            "               precision    recall  f1-score   support\n",
            "\n",
            "           0       0.72      0.89      0.79      9907\n",
            "           1       0.46      0.21      0.29      4419\n",
            "\n",
            "    accuracy                           0.68     14326\n",
            "   macro avg       0.59      0.55      0.54     14326\n",
            "weighted avg       0.64      0.68      0.64     14326\n",
            "\n",
            "\n",
            " Report for Train Predection : \n",
            "               precision    recall  f1-score   support\n",
            "\n",
            "           0       0.94      1.00      0.97     22921\n",
            "           1       0.99      0.86      0.92     10506\n",
            "\n",
            "    accuracy                           0.95     33427\n",
            "   macro avg       0.97      0.93      0.94     33427\n",
            "weighted avg       0.96      0.95      0.95     33427\n",
            "\n",
            "\n",
            " Confusion Matrix : \n",
            " [[8810 1097]\n",
            " [3470  949]]\n"
          ]
        }
      ],
      "source": [
        "rfc = RandomForestClassifier(n_estimators=6)\n",
        "rfc.fit(x_train,y_train)\n",
        "pred_test = rfc.predict(x_test)\n",
        "pred_train = rfc.predict(x_train)\n",
        "report_test = classification_report(y_test,pred_test)\n",
        "report_train = classification_report(y_train,pred_train)\n",
        "cm = confusion_matrix(y_test,pred_test)\n",
        "print(\"Report for Test Prediction : \\n\",report_test)\n",
        "print(\"\\n Report for Train Predection : \\n\",report_train)\n",
        "print(\"\\n Confusion Matrix : \\n\",cm)"
      ]
    },
    {
      "cell_type": "markdown",
      "id": "a8359f55",
      "metadata": {
        "id": "a8359f55"
      },
      "source": [
        "**Support Vector Machine**"
      ]
    },
    {
      "cell_type": "code",
      "execution_count": null,
      "id": "8aca09f5",
      "metadata": {
        "id": "8aca09f5",
        "outputId": "c82c6a81-6c82-4b58-f3f9-44a53afe14be"
      },
      "outputs": [
        {
          "name": "stdout",
          "output_type": "stream",
          "text": [
            "Report for Test Prediction : \n",
            "               precision    recall  f1-score   support\n",
            "\n",
            "           0       0.72      0.95      0.82      9907\n",
            "           1       0.60      0.17      0.27      4419\n",
            "\n",
            "    accuracy                           0.71     14326\n",
            "   macro avg       0.66      0.56      0.54     14326\n",
            "weighted avg       0.68      0.71      0.65     14326\n",
            "\n",
            "\n",
            " Report for Train Predection : \n",
            "               precision    recall  f1-score   support\n",
            "\n",
            "           0       0.73      0.96      0.83     22921\n",
            "           1       0.71      0.21      0.32     10506\n",
            "\n",
            "    accuracy                           0.73     33427\n",
            "   macro avg       0.72      0.59      0.58     33427\n",
            "weighted avg       0.72      0.73      0.67     33427\n",
            "\n",
            "\n",
            " Confusion Matrix : \n",
            " [[9399  508]\n",
            " [3665  754]]\n"
          ]
        }
      ],
      "source": [
        "#Support vex=ctor Machine\n",
        "svc = SVC(kernel = 'rbf', C=1.0, gamma='scale')\n",
        "svc.fit(x_train,y_train)\n",
        "pred_test = svc.predict(x_test)\n",
        "pred_train = svc.predict(x_train)\n",
        "report_test = classification_report(y_test,pred_test)\n",
        "report_train = classification_report(y_train,pred_train)\n",
        "cm = confusion_matrix(y_test,pred_test)\n",
        "print(\"Report for Test Prediction : \\n\",report_test)\n",
        "print(\"\\n Report for Train Predection : \\n\",report_train)\n",
        "print(\"\\n Confusion Matrix : \\n\",cm)"
      ]
    },
    {
      "cell_type": "markdown",
      "id": "883622c7",
      "metadata": {
        "id": "883622c7"
      },
      "source": [
        "**K-Nearest Neighbors**"
      ]
    },
    {
      "cell_type": "code",
      "execution_count": null,
      "id": "bf1ad9ee",
      "metadata": {
        "id": "bf1ad9ee"
      },
      "outputs": [],
      "source": [
        "# K-Nearest Neighbours\n",
        "train_acc=[]\n",
        "test_acc=[]\n",
        "n=[]\n",
        "for i in range(1,5):\n",
        "    knn = KNeighborsClassifier(i)\n",
        "    knn.fit(x_train,y_train)\n",
        "    pred_test = knn.predict(x_test)\n",
        "    pred_train = knn.predict(x_train)\n",
        "    train_acc.append(accuracy_score(pred_train,y_train))\n",
        "    test_acc.append(accuracy_score(pred_test,y_test))\n",
        "    n.append(i)\n",
        ""
      ]
    },
    {
      "cell_type": "code",
      "execution_count": null,
      "id": "6f2df5b5",
      "metadata": {
        "id": "6f2df5b5",
        "outputId": "86db3326-9a96-4e76-f0b7-dd502140c668"
      },
      "outputs": [
        {
          "name": "stdout",
          "output_type": "stream",
          "text": [
            "[0.6738561407182494, 0.6738561407182494, 0.6738561407182494, 0.6738561407182494]\n"
          ]
        },
        {
          "data": {
            "image/png": "[encoded data removed]",
            "text/plain": [
              "<Figure size 640x480 with 1 Axes>"
            ]
          },
          "metadata": {},
          "output_type": "display_data"
        }
      ],
      "source": [
        "# Plotting accurasy\n",
        "plt.plot(n,test_acc,'r',label=\"Test Data\")\n",
        "plt.plot(n,train_acc,'b--',label=\"Train Data\")\n",
        "plt.legend()\n",
        "plt.grid()\n",
        "print(test_acc)"
      ]
    },
    {
      "cell_type": "code",
      "execution_count": null,
      "id": "d53d0ad8",
      "metadata": {
        "id": "d53d0ad8",
        "outputId": "87a3d049-da7d-4c47-ba9f-b37fc168ada6"
      },
      "outputs": [
        {
          "name": "stdout",
          "output_type": "stream",
          "text": [
            "Report for Test Prediction : \n",
            "               precision    recall  f1-score   support\n",
            "\n",
            "           0       0.73      0.79      0.76      9907\n",
            "           1       0.42      0.35      0.38      4419\n",
            "\n",
            "    accuracy                           0.65     14326\n",
            "   macro avg       0.58      0.57      0.57     14326\n",
            "weighted avg       0.64      0.65      0.64     14326\n",
            "\n",
            "\n",
            " Report for Train Predection : \n",
            "               precision    recall  f1-score   support\n",
            "\n",
            "           0       0.83      0.90      0.86     22921\n",
            "           1       0.73      0.60      0.66     10506\n",
            "\n",
            "    accuracy                           0.80     33427\n",
            "   macro avg       0.78      0.75      0.76     33427\n",
            "weighted avg       0.80      0.80      0.80     33427\n",
            "\n",
            "\n",
            " Confusion Matrix : \n",
            " [[7827 2080]\n",
            " [2893 1526]]\n"
          ]
        }
      ],
      "source": [
        "knn = KNeighborsClassifier(3)\n",
        "knn.fit(x_train,y_train)\n",
        "pred_test = knn.predict(x_test)\n",
        "pred_train = knn.predict(x_train)\n",
        "report_test = classification_report(y_test,pred_test)\n",
        "report_train = classification_report(y_train,pred_train)\n",
        "cm = confusion_matrix(y_test,pred_test)\n",
        "print(\"Report for Test Prediction : \\n\",report_test)\n",
        "print(\"\\n Report for Train Predection : \\n\",report_train)\n",
        "print(\"\\n Confusion Matrix : \\n\",cm)"
      ]
    },
    {
      "cell_type": "code",
      "execution_count": null,
      "id": "ae48651a",
      "metadata": {
        "id": "ae48651a",
        "outputId": "a7dd6ac9-3b42-4870-816d-ddd6638ef8d4"
      },
      "outputs": [
        {
          "name": "stdout",
          "output_type": "stream",
          "text": [
            "Report for Test Prediction : \n",
            "               precision    recall  f1-score   support\n",
            "\n",
            "           0       0.74      0.90      0.81      9907\n",
            "           1       0.56      0.27      0.36      4419\n",
            "\n",
            "    accuracy                           0.71     14326\n",
            "   macro avg       0.65      0.59      0.59     14326\n",
            "weighted avg       0.68      0.71      0.67     14326\n",
            "\n",
            "\n",
            " Report for Train Predection : \n",
            "               precision    recall  f1-score   support\n",
            "\n",
            "           0       0.76      0.93      0.84     22921\n",
            "           1       0.70      0.34      0.46     10506\n",
            "\n",
            "    accuracy                           0.75     33427\n",
            "   macro avg       0.73      0.64      0.65     33427\n",
            "weighted avg       0.74      0.75      0.72     33427\n",
            "\n",
            "\n",
            " Confusion Matrix : \n",
            " [[8959  948]\n",
            " [3229 1190]]\n"
          ]
        }
      ],
      "source": [
        "# XGB Classifier\n",
        "xgb = XGBClassifier(\n",
        "    objective='multi:softmax',\n",
        "    num_class=3,\n",
        "    max_depth=4,\n",
        "    eta=0.3,\n",
        "    subsample=0.7,\n",
        "    colsample_bytree=0.7\n",
        ")\n",
        "xgb.fit(x_train, y_train)\n",
        "pred_test = xgb.predict(x_test)\n",
        "pred_train = xgb.predict(x_train)\n",
        "report_test = classification_report(y_test,pred_test)\n",
        "report_train = classification_report(y_train,pred_train)\n",
        "cm = confusion_matrix(y_test,pred_test)\n",
        "print(\"Report for Test Prediction : \\n\",report_test)\n",
        "print(\"\\n Report for Train Predection : \\n\",report_train)\n",
        "print(\"\\n Confusion Matrix : \\n\",cm)"
      ]
    },
    {
      "cell_type": "markdown",
      "id": "c6eac0b0",
      "metadata": {
        "id": "c6eac0b0"
      },
      "source": [
        "**Hyper Parameter Tuning Using Grid Search**"
      ]
    },
    {
      "cell_type": "code",
      "execution_count": null,
      "id": "4f1a7e9e",
      "metadata": {
        "id": "4f1a7e9e"
      },
      "outputs": [],
      "source": [
        "from sklearn.model_selection import GridSearchCV"
      ]
    },
    {
      "cell_type": "markdown",
      "id": "1cf7fd99",
      "metadata": {
        "id": "1cf7fd99"
      },
      "source": [
        "**Random Forest**"
      ]
    },
    {
      "cell_type": "code",
      "execution_count": null,
      "id": "b514a2a4",
      "metadata": {
        "id": "b514a2a4",
        "outputId": "d559451d-3caa-4016-ebbf-bf5953e38362"
      },
      "outputs": [
        {
          "name": "stdout",
          "output_type": "stream",
          "text": [
            "Fitting 5 folds for each of 648 candidates, totalling 3240 fits\n",
            "Parameters : \n",
            " {'bootstrap': False, 'max_depth': 10, 'max_features': 'sqrt', 'min_samples_leaf': 4, 'min_samples_split': 50, 'n_estimators': 15}\n",
            "Score : \n",
            " 0.7045203464925538\n"
          ]
        }
      ],
      "source": [
        "param_grid = {\n",
        "    'n_estimators': [1, 10, 15],\n",
        "    'max_features': ['auto', 'sqrt', 'log2'],\n",
        "    'max_depth': [None, 10, 20],\n",
        "    'min_samples_split': [2, 5, 10,50],\n",
        "    'min_samples_leaf': [1, 2, 4],\n",
        "    'bootstrap': [True, False]\n",
        "}\n",
        "model = RandomForestClassifier()\n",
        "\n",
        "grid_search = GridSearchCV(estimator=model, param_grid=param_grid, cv=5, scoring='accuracy', verbose=1, n_jobs=-1)\n",
        "grid_search.fit(x_train, y_train)\n",
        "best_params = grid_search.best_params_\n",
        "best_score = grid_search.best_score_\n",
        "print(\"Parameters : \\n\",best_params)\n",
        "print(\"Score : \\n\",best_score)"
      ]
    },
    {
      "cell_type": "code",
      "execution_count": null,
      "id": "499f7654",
      "metadata": {
        "id": "499f7654",
        "outputId": "14671717-7e2a-4b4d-b62e-8ed2d652c514"
      },
      "outputs": [
        {
          "name": "stdout",
          "output_type": "stream",
          "text": [
            "Report for Test Prediction : \n",
            "               precision    recall  f1-score   support\n",
            "\n",
            "           0       0.75      0.97      0.85      9907\n",
            "           1       0.81      0.28      0.42      4419\n",
            "\n",
            "    accuracy                           0.76     14326\n",
            "   macro avg       0.78      0.63      0.63     14326\n",
            "weighted avg       0.77      0.76      0.71     14326\n",
            "\n",
            "\n",
            " Report for Train Predection : \n",
            "               precision    recall  f1-score   support\n",
            "\n",
            "           0       0.71      0.94      0.81     22921\n",
            "           1       0.58      0.18      0.28     10506\n",
            "\n",
            "    accuracy                           0.70     33427\n",
            "   macro avg       0.65      0.56      0.55     33427\n",
            "weighted avg       0.67      0.70      0.64     33427\n",
            "\n",
            "\n",
            " Confusion Matrix : \n",
            " [[9605  302]\n",
            " [3170 1249]]\n"
          ]
        }
      ],
      "source": [
        "model = RandomForestClassifier(bootstrap = False, max_depth = 10, max_features = 'sqrt', min_samples_leaf= 4, min_samples_split =  50, n_estimators= 15)\n",
        "\n",
        "\n",
        "model.fit(x_test,y_test)\n",
        "pred_test = model.predict(x_test)\n",
        "pred_train = model.predict(x_train)\n",
        "report_test = classification_report(y_test,pred_test)\n",
        "report_train = classification_report(y_train,pred_train)\n",
        "cm = confusion_matrix(y_test,pred_test)\n",
        "print(\"Report for Test Prediction : \\n\",report_test)\n",
        "print(\"\\n Report for Train Predection : \\n\",report_train)\n",
        "print(\"\\n Confusion Matrix : \\n\",cm)"
      ]
    },
    {
      "cell_type": "code",
      "execution_count": null,
      "id": "046bcc4a",
      "metadata": {
        "id": "046bcc4a"
      },
      "outputs": [],
      "source": []
    }
  ],
  "metadata": {
    "kernelspec": {
      "display_name": "Python 3 (ipykernel)",
      "language": "python",
      "name": "python3"
    },
    "language_info": {
      "codemirror_mode": {
        "name": "ipython",
        "version": 3
      },
      "file_extension": ".py",
      "mimetype": "text/x-python",
      "name": "python",
      "nbconvert_exporter": "python",
      "pygments_lexer": "ipython3",
      "version": "3.9.13"
    },
    "colab": {
      "provenance": []
    }
  },
  "nbformat": 4,
  "nbformat_minor": 5
}